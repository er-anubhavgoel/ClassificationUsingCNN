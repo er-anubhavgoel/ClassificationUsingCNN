{
 "cells": [
  {
   "cell_type": "code",
   "execution_count": 4,
   "id": "c40765a7",
   "metadata": {},
   "outputs": [],
   "source": [
    "import tensorflow as tf\n",
    "import numpy as np\n",
    "from tensorflow.keras.models import Sequential\n",
    "from tensorflow.keras.layers import Dense, Dropout, Activation, Flatten, Conv2D, MaxPooling2D\n",
    "from tensorflow.keras.callbacks import TensorBoard\n",
    "import pickle\n",
    "import time"
   ]
  },
  {
   "cell_type": "code",
   "execution_count": 5,
   "id": "9f192474",
   "metadata": {},
   "outputs": [],
   "source": [
    "NAME = \"Metals-vs-Plastics-cnn-64x2-{}\".format(int(time.time()))\n",
    "tensorboard = TensorBoard(log_dir='logs/{}'.format(NAME))\n",
    "\n",
    "X=np.array(pickle.load(open(\"X.pickle\", \"rb\")))     #Image Extraction\n",
    "y=np.array(pickle.load(open(\"y.pickle\", \"rb\")))     #Image Labels"
   ]
  },
  {
   "cell_type": "code",
   "execution_count": 6,
   "id": "cac8502d",
   "metadata": {},
   "outputs": [],
   "source": [
    "X = X/255.0         #Used for normalising image in X due to RGB extraction to Gray,and (Standardisatiion ranging between 0 & 1)\n",
    "model = Sequential()        #General Model with no Back-Propagation"
   ]
  },
  {
   "cell_type": "code",
   "execution_count": 7,
   "id": "b79887fe",
   "metadata": {},
   "outputs": [],
   "source": [
    "model.add(Conv2D((64),(3,3),input_shape=X.shape[1:]))   #64 feature detectors, 3x3 matrix\n",
    "model.add(Activation(\"relu\"))                           #Hidden Layer-1\n",
    "model.add(MaxPooling2D(pool_size=(2,2)))                #Resultant matrix of 2x2 is made by maxpool\n",
    "\n",
    "model.add(Conv2D((64),(3,3),input_shape=X.shape[1:]))   #3 rows and 3 columns\n",
    "model.add(Activation(\"relu\"))                           #Hidden Layer-2\n",
    "model.add(MaxPooling2D(pool_size=(2,2)))                #For No data loss\n",
    "\n",
    "model.add(Flatten())        #Conversion of 2D array into single 1D vector\n",
    "\n",
    "model.add(Dense(64))        #64 Neurons in each Hidden Layer connected to previous and subsequent layers\n",
    "\n",
    "model.add(Dense(1))                             #Output Layer\n",
    "model.add(Activation('sigmoid'))                #Output Layer"
   ]
  },
  {
   "cell_type": "code",
   "execution_count": 9,
   "id": "25eb900d",
   "metadata": {},
   "outputs": [
    {
     "name": "stdout",
     "output_type": "stream",
     "text": [
      "Epoch 1/10\n",
      "18/18 [==============================] - 81s 4s/step - loss: 0.2924 - accuracy: 0.9098 - val_loss: 0.2310 - val_accuracy: 0.9617\n",
      "Epoch 2/10\n",
      "18/18 [==============================] - 83s 5s/step - loss: 0.1861 - accuracy: 0.9578 - val_loss: 0.1627 - val_accuracy: 0.9467\n",
      "Epoch 3/10\n",
      "18/18 [==============================] - 75s 4s/step - loss: 0.1204 - accuracy: 0.9615 - val_loss: 0.1543 - val_accuracy: 0.9600\n",
      "Epoch 4/10\n",
      "18/18 [==============================] - 73s 4s/step - loss: 0.1142 - accuracy: 0.9641 - val_loss: 0.1343 - val_accuracy: 0.9633\n",
      "Epoch 5/10\n",
      "18/18 [==============================] - 88s 5s/step - loss: 0.0939 - accuracy: 0.9681 - val_loss: 0.1293 - val_accuracy: 0.9567\n",
      "Epoch 6/10\n",
      "18/18 [==============================] - 87s 5s/step - loss: 0.0855 - accuracy: 0.9706 - val_loss: 0.1235 - val_accuracy: 0.9600\n",
      "Epoch 7/10\n",
      "18/18 [==============================] - 80s 4s/step - loss: 0.0765 - accuracy: 0.9752 - val_loss: 0.1163 - val_accuracy: 0.9650\n",
      "Epoch 8/10\n",
      "18/18 [==============================] - 79s 4s/step - loss: 0.0671 - accuracy: 0.9769 - val_loss: 0.1208 - val_accuracy: 0.9533\n",
      "Epoch 9/10\n",
      "18/18 [==============================] - 79s 4s/step - loss: 0.0567 - accuracy: 0.9809 - val_loss: 0.1154 - val_accuracy: 0.9617\n",
      "Epoch 10/10\n",
      "18/18 [==============================] - 78s 4s/step - loss: 0.0465 - accuracy: 0.9852 - val_loss: 0.1244 - val_accuracy: 0.9667\n",
      "\n",
      "188/188 [==============================] - 24s 126ms/step - loss: 0.0522 - accuracy: 0.9855\n",
      "accuracy: 98.55%\n",
      "\n",
      "Saved model to disk\n"
     ]
    }
   ],
   "source": [
    "model.compile(loss=\"binary_crossentropy\",\n",
    "              optimizer=\"adam\",\n",
    "              metrics=['accuracy'])\n",
    "\n",
    "model.fit(X, y, batch_size=300, epochs=10, validation_split=0.1, callbacks=[tensorboard])\n",
    "#(300 images for one epoch, 0.1=10% Data stored for Future Testing being a supervised learning model)\n",
    "\n",
    "print()\n",
    "scores = model.evaluate(X, y)\n",
    "print(\"%s: %.2f%%\" % (model.metrics_names[1], scores[1]*100))\n",
    "print()\n",
    "model.save(\"MPmodel.h5\")\n",
    "print(\"Saved model to disk\")"
   ]
  }
 ],
 "metadata": {
  "kernelspec": {
   "display_name": "Python 3 (ipykernel)",
   "language": "python",
   "name": "python3"
  },
  "language_info": {
   "codemirror_mode": {
    "name": "ipython",
    "version": 3
   },
   "file_extension": ".py",
   "mimetype": "text/x-python",
   "name": "python",
   "nbconvert_exporter": "python",
   "pygments_lexer": "ipython3",
   "version": "3.10.8"
  }
 },
 "nbformat": 4,
 "nbformat_minor": 5
}
